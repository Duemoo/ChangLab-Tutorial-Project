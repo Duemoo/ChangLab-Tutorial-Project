{
 "cells": [
  {
   "cell_type": "code",
   "execution_count": 1,
   "metadata": {},
   "outputs": [],
   "source": [
    "%cd /qbio/nest/alpaca/Tutorial"
   ]
  },
  {
   "cell_type": "code",
   "execution_count": 2,
   "metadata": {},
   "outputs": [],
   "source": [
    "import numpy as np\n",
    "import matplotlib.pyplot as plt\n"
   ]
  },
  {
   "cell_type": "code",
   "execution_count": 3,
   "metadata": {},
   "outputs": [],
   "source": [
    "#ID of Mirlet7d: ENSMUSG00000065453\n",
    "#We should get data that are aligned to\n",
    "#chr13:48536009 - 48536050\n",
    "#CTCC is 48536059 - 48536062"
   ]
  },
  {
   "cell_type": "code",
   "execution_count": 4,
   "metadata": {},
   "outputs": [],
   "source": [
    "#Generating a list that contains data of reads that are aligned to MirLet7d\n",
    "\n",
    "def makedata(addr):\n",
    "\n",
    "    with open(addr) as file_data:\n",
    "\n",
    "        result1 = []\n",
    "        for line in file_data:\n",
    "            if line.startswith('@'):\n",
    "                continue\n",
    "            else:\n",
    "                tmp1 = line.split('\\t')\n",
    "                tmp1 = [tmp1[3], tmp1[5], tmp1[9]]\n",
    "                result1.append(tmp1)\n",
    "        \n",
    "        \n",
    "        #for i in result1:\n",
    "            \n",
    "            \n",
    "         #   if i in j:\n",
    "                \n",
    "          #  else:\n",
    "                \n",
    "        \n",
    "        return result1\n"
   ]
  },
  {
   "cell_type": "code",
   "execution_count": 5,
   "metadata": {},
   "outputs": [
    {
     "name": "stdout",
     "output_type": "stream",
     "text": [
      "134\n"
     ]
    }
   ],
   "source": [
    "Aligned_data = makedata('./AlignedData_with_genome/Lin28a-CLIP-35L33G/Mirlet7d.sam')\n",
    "print(len(Aligned_data))\n",
    "#Element of Aligned_data:\n",
    "#['256', 'ENSMUSG00000065453.1', '40', '3', '22M1D41M15S', 'AGGGCAGAGA...']"
   ]
  },
  {
   "cell_type": "code",
   "execution_count": 16,
   "metadata": {},
   "outputs": [],
   "source": [
    "def classify(data):\n",
    "    result = {}\n",
    "    for i in data:\n",
    "        #print(i)\n",
    "\n",
    "        pos = int(i[0])\n",
    "        cigar_raw = i[1]\n",
    "        cigar = []\n",
    "        seq = i[2]\n",
    "        tmp = 0\n",
    "        \n",
    "        for i in range(len(cigar_raw)):\n",
    "            if cigar_raw[i] == 'S' or cigar_raw[i] == 'M' or cigar_raw[i] == 'D':\n",
    "                cigar.append(cigar_raw[tmp:i+1])\n",
    "                tmp = i+1\n",
    "                \n",
    "        #print(cigar)\n",
    "                \n",
    "        keypos = pos\n",
    "        \n",
    "        while len(cigar) != 0:\n",
    "            if cigar[0][-1] == 'M':\n",
    "                num = 0\n",
    "                length = int(cigar[0][:-1])\n",
    "                for j in range(length):\n",
    "                    if keypos not in result:\n",
    "                        result[keypos] = [seq[j]]\n",
    "    \n",
    "                    else:\n",
    "                        result[keypos] = result[keypos]+[seq[j]]\n",
    "                    #print(result[keypos])\n",
    "                    \n",
    "                    keypos += 1\n",
    "                    num += 1\n",
    "                \n",
    "                seq = seq[num:]\n",
    "                cigar.pop(0)\n",
    "                \n",
    "            elif cigar[0][-1] == 'D':      #This means deletion\n",
    "                num = 0\n",
    "                length = int(cigar[0][:-1])\n",
    "\n",
    "                for j in range(length):\n",
    "                    if keypos not in result:\n",
    "                        result[keypos] = ['D']\n",
    "    \n",
    "                    else:\n",
    "                        result[keypos] = result[keypos]+['D']\n",
    "                    #print(result[keypos])\n",
    "                    \n",
    "                    keypos += 1\n",
    "                    num += 1\n",
    "                    cigar.pop(0)\n",
    "                \n",
    "            elif cigar[0][-1] == 'S':                          #This means soft clipping\n",
    "                num = int(cigar[0][:-1])\n",
    "                #print(num)\n",
    "                seq = seq[num:]\n",
    "                #print(seq)\n",
    "                cigar.pop(0)\n",
    "                #print(cigar)\n",
    "                \n",
    "            elif cigar[0][-1] == ''\n",
    "    #print(result)\n",
    "    \n",
    "    return result\n",
    "        \n",
    "\n",
    "            \n",
    "        \n",
    "        "
   ]
  },
  {
   "cell_type": "code",
   "execution_count": 17,
   "metadata": {},
   "outputs": [],
   "source": [
    "res = classify(Aligned_data)\n",
    "#print(res.keys())\n",
    "#res = classify([['48536015', '17S60M1S', 'ATTGATGGTGCCTACAGAAGGCCCTAAGAAAGGCAGCAGGTCGTATAGTTAACTCGTTGTGGGCAAAATCTCTGCCCN']])\n",
    "#print(res)\n",
    "#print(len('TTGATGGTGCCTACAGTAAGGCCCTAAGAAAGGCAGCAGGTCGTATAGTTAACTCTTTGTGGGCAAAATCTCTGCCCT'))\n",
    "\n",
    "#a = 'ATTGATGGTGCCTACAGAAGGCCCTAAGAAAGGCAGCAGGTCGTATAGTTAACTCGTTGTGGGCAAAATCTCTGCCCN'\n",
    "#print(a[77:])"
   ]
  },
  {
   "cell_type": "code",
   "execution_count": 8,
   "metadata": {},
   "outputs": [],
   "source": [
    "#Calculate shannon's entropy    \n",
    "\n",
    "def shannon(data):\n",
    "    result = {}\n",
    "    for i in data:\n",
    "        A = 0\n",
    "        C = 0\n",
    "        T = 0\n",
    "        G = 0\n",
    "        SE = 0\n",
    "        \n",
    "        size = len(data[i])\n",
    "        for j in data[i]:\n",
    "            if j == 'A':\n",
    "                A += 1\n",
    "            elif j == 'C':\n",
    "                C += 1\n",
    "            elif j == 'G':\n",
    "                G += 1\n",
    "            elif j == 'T':\n",
    "                T += 1\n",
    "            else:\n",
    "                A += 0.25\n",
    "                C += 0.25\n",
    "                T += 0.25\n",
    "                G += 0.25\n",
    "                \n",
    "        pA = A/size\n",
    "        pC = C/size\n",
    "        pG = G/size\n",
    "        pT = T/size\n",
    "        prob = [pA, pC, pG, pT]\n",
    "        \n",
    "        for p in prob:\n",
    "            if p != 0:\n",
    "                SE -= p*np.log2(p)\n",
    "        \n",
    "        result[i] = SE\n",
    "                \n",
    "    return result"
   ]
  },
  {
   "cell_type": "code",
   "execution_count": 9,
   "metadata": {},
   "outputs": [],
   "source": [
    "Data = shannon(res)\n",
    "#Data"
   ]
  },
  {
   "cell_type": "code",
   "execution_count": 10,
   "metadata": {},
   "outputs": [],
   "source": [
    "#Make dictionary that contains reference sequence of Mirlet7d\n",
    "#Between position 48,536,009-48,536,116\n",
    "\n",
    "reference = {}\n",
    "refseq = 'TACAGTAAGGCCCTAAGAAAGGCAGCAGGTCGTATAGTTAACTCCTTGTGGGCAAAATCTCTGCCCTAAAACTATGCAACCTACTACCTCTTCCTAGGAACCCATTTT'\n",
    "position = 48536009\n",
    "for i in range(len(refseq)):\n",
    "    reference[position] = refseq[i]\n",
    "    position += 1\n",
    "    \n",
    "#print(reference)"
   ]
  },
  {
   "cell_type": "code",
   "execution_count": 12,
   "metadata": {},
   "outputs": [
    {
     "data": {
      "image/png": "[encoded data removed]",
      "text/plain": [
       "<Figure size 1440x144 with 1 Axes>"
      ]
     },
     "metadata": {
      "needs_background": "light"
     },
     "output_type": "display_data"
    },
    {
     "name": "stdout",
     "output_type": "stream",
     "text": [
      "/qbio/nest/alpaca/Tutorial/Figures\n"
     ]
    },
    {
     "data": {
      "text/plain": [
       "<Figure size 1440x144 with 0 Axes>"
      ]
     },
     "metadata": {},
     "output_type": "display_data"
    }
   ],
   "source": [
    "#Plot figure S2A\n",
    "\n",
    "bases = []\n",
    "SEs = []\n",
    "\n",
    "for i in reference:\n",
    "    bases.append(reference[i])\n",
    "    SEs.append(Data[i])\n",
    "\n",
    "bases = bases[12:-35]\n",
    "SEs = SEs[12:-35]\n",
    "\n",
    "\n",
    "x = range(len(bases))\n",
    "plt.rcParams[\"figure.figsize\"] = (20,2)\n",
    "plt.bar(x, SEs)\n",
    "plt.xticks(x, bases)\n",
    "plt.xlabel('Base ()')\n",
    "plt.ylabel('Shannon\\'s entropy')\n",
    "plt.show()\n",
    "\n",
    "%cd /qbio/nest/alpaca/Tutorial/Figures\n",
    "plt.savefig('Figure S2A.png', dpi=500)\n",
    "\n",
    "\n"
   ]
  },
  {
   "cell_type": "code",
   "execution_count": null,
   "metadata": {},
   "outputs": [],
   "source": []
  },
  {
   "cell_type": "code",
   "execution_count": null,
   "metadata": {},
   "outputs": [],
   "source": []
  }
 ],
 "metadata": {
  "kernelspec": {
   "display_name": "Python 3",
   "language": "python",
   "name": "python3"
  },
  "language_info": {
   "codemirror_mode": {
    "name": "ipython",
    "version": 3
   },
   "file_extension": ".py",
   "mimetype": "text/x-python",
   "name": "python",
   "nbconvert_exporter": "python",
   "pygments_lexer": "ipython3",
   "version": "3.7.9"
  }
 },
 "nbformat": 4,
 "nbformat_minor": 4
}
