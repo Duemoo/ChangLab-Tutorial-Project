{
 "cells": [
  {
   "cell_type": "code",
   "execution_count": 117,
   "metadata": {},
   "outputs": [
    {
     "name": "stdout",
     "output_type": "stream",
     "text": [
      "/qbio/nest/alpaca/Tutorial\n"
     ]
    }
   ],
   "source": [
    "%cd /qbio/nest/alpaca/Tutorial"
   ]
  },
  {
   "cell_type": "code",
   "execution_count": 118,
   "metadata": {},
   "outputs": [],
   "source": [
    "import numpy as np\n",
    "import matplotlib.pyplot as plt\n",
    "import pickle\n",
    "import math"
   ]
  },
  {
   "cell_type": "code",
   "execution_count": 119,
   "metadata": {},
   "outputs": [],
   "source": [
    "#Generating a list that contains data of reads\n",
    "\n",
    "def makedata(addr):\n",
    "    print('Start makedata function...')\n",
    "    with open(addr) as file_data:\n",
    "        cycle = 0\n",
    "        result1 = []\n",
    "        for line in file_data:\n",
    "            cycle +=1\n",
    "            if cycle%1000000 == 0:\n",
    "                print(cycle)\n",
    "            if line.startswith('@'):\n",
    "                continue\n",
    "            else:\n",
    "                tmp1 = line.split('\\t')\n",
    "                tmp1 = [tmp1[3], tmp1[5], tmp1[9]]\n",
    "                result1.append(tmp1)                \n",
    "        \n",
    "        return result1\n"
   ]
  },
  {
   "cell_type": "code",
   "execution_count": 120,
   "metadata": {},
   "outputs": [],
   "source": [
    "def classify(datas):\n",
    "    result = []\n",
    "    print('\\nstart classify function...')\n",
    "    \n",
    "    for i, data in enumerate(datas):\n",
    "        \n",
    "        cigarseq = ''\n",
    "        \n",
    "        if i%1000000 == 0:\n",
    "            print(i)\n",
    "#        print(count)\n",
    "        #print(i)\n",
    "\n",
    "        cigar_raw = data[1]\n",
    "        cigar = []\n",
    "        seq = data[2]\n",
    "        tmp = 0\n",
    "        keys = ['S', 'M', 'D', 'N', 'H', 'I']\n",
    "        for i in range(len(cigar_raw)):\n",
    "            if cigar_raw[i] in keys:\n",
    "                cigar.append(cigar_raw[tmp:i+1])\n",
    "                tmp = i+1\n",
    "        #if i<10:\n",
    "            #print(cigar)\n",
    "        #print(cigar)\n",
    "                \n",
    "        while len(cigar) != 0:\n",
    "            if cigar[0][-1] == 'M':\n",
    "                num = 0\n",
    "                #print(cigar)\n",
    "                length = int(cigar[0][:-1])\n",
    "                for j in range(length):\n",
    "                    cigarseq += 'M'\n",
    "                    #print(result[keypos])\n",
    "\n",
    "                del cigar[0]\n",
    "                \n",
    "            elif cigar[0][-1] == 'D':      #This means deletion\n",
    "                num = 0\n",
    "                #print(cigar)\n",
    "                #print(cigar[0][:-1])\n",
    "                length = int(cigar[0][:-1])\n",
    "\n",
    "                #print(length)\n",
    "                for j in range(length):\n",
    "                    cigarseq += 'D'\n",
    "                    #print(result[keypos])\n",
    "                del cigar[0]\n",
    "                \n",
    "            elif cigar[0][-1] == 'S' or cigar[0][-1] == 'N':   #This means soft clipping\n",
    "                del cigar[0]\n",
    "                #print(cigar)\n",
    "            \n",
    "            elif cigar[0][-1] == 'I':                          #This means insertion\n",
    "                num = 0\n",
    "                length = int(cigar[0][:-1])\n",
    "                for j in range(length):\n",
    "                    cigarseq += 'I'\n",
    "                del cigar[0]\n",
    "            \n",
    "            else:\n",
    "                print('exception')\n",
    "                return []\n",
    "    #print(result)\n",
    "        result.append(cigarseq)\n",
    "    return result\n",
    "        \n",
    "\n",
    "            \n",
    "        \n",
    "        "
   ]
  },
  {
   "cell_type": "markdown",
   "metadata": {},
   "source": [
    "RNA_seq_classified_sampled = classify(RNA_seq_sampled)\n",
    "CLIP_35L33G_classified_sampled = classify(CLIP_35L33G_sampled)\n",
    "CLIP_2J3_classified_sampled = classify(CLIP_2J3_sampled)\n",
    "CLIP_polyclonal_classified_sampled = classify(CLIP_polyclonal_sampled)"
   ]
  },
  {
   "cell_type": "markdown",
   "metadata": {},
   "source": [
    "#print(RNA_seq_classified)\n",
    "count = 0\n",
    "for i in range(10000):\n",
    "    print(RNA_seq_classified[i])"
   ]
  },
  {
   "cell_type": "code",
   "execution_count": 121,
   "metadata": {},
   "outputs": [],
   "source": [
    "def binning1(data, binnum):\n",
    "    print('\\nstart binning function...')\n",
    "    cycle = 0\n",
    "    result = []\n",
    "    for i in range(binnum):\n",
    "        result.append([])\n",
    "    #print(len(data))\n",
    "    for line in data:\n",
    "        cycle +=1\n",
    "        if cycle%1000000 == 0:\n",
    "            print(cycle)\n",
    "        #print(line)\n",
    "        length = len(line)\n",
    "        #print(length)\n",
    "        r = length%binnum\n",
    "        q = int(length/binnum)\n",
    "        step = []\n",
    "        count = 0\n",
    "        pos = 0\n",
    "        for i in range(binnum):\n",
    "            if count != r:\n",
    "                chunk = line[pos:pos+q+1]\n",
    "                result[i] += [char for char in chunk]\n",
    "                pos += q+1\n",
    "                count += 1\n",
    "            else:\n",
    "                chunk = line[pos:pos+q]\n",
    "                result[i] += [char for char in chunk]\n",
    "                pos += q\n",
    "    return result\n",
    "        #print(step)"
   ]
  },
  {
   "cell_type": "code",
   "execution_count": 130,
   "metadata": {},
   "outputs": [],
   "source": [
    "def binning2(data, binnum):\n",
    "    print('\\nstart binning function...')\n",
    "    cycle = 0\n",
    "    result = []\n",
    "    for i in range(binnum):\n",
    "        result.append([])\n",
    "    #print(len(data))\n",
    "    for line in data:\n",
    "        cycle +=1\n",
    "        if cycle%1000000 == 0:\n",
    "            print(cycle)\n",
    "        #print(line)\n",
    "        length = len(line)\n",
    "        #print(length)\n",
    "        r = length%binnum\n",
    "        q = int(length/binnum)\n",
    "        step = []\n",
    "        count = 0\n",
    "        pos = 0\n",
    "        for i in range(binnum):\n",
    "            if count != r:\n",
    "                chunk = line[pos:pos+q+1]\n",
    "                if 'D' in chunk:\n",
    "                    if 'I' in chunk:\n",
    "                        result[i] += 'B'\n",
    "                    else:\n",
    "                        result[i] += 'D'\n",
    "                \n",
    "                else:\n",
    "                    if 'I' in chunk:\n",
    "                        result[i] += 'I'\n",
    "                    else:\n",
    "                        result[i] += 'M'\n",
    "                pos += q+1\n",
    "                count += 1\n",
    "            else:\n",
    "                chunk = line[pos:pos+q]\n",
    "                if 'D' in chunk:\n",
    "                    if 'I' in chunk:\n",
    "                        result[i] += 'B'\n",
    "                    else:\n",
    "                        result[i] += 'D'\n",
    "                \n",
    "                else:\n",
    "                    if 'I' in chunk:\n",
    "                        result[i] += 'I'\n",
    "                    else:\n",
    "                        result[i] += 'M'\n",
    "                pos += q\n",
    "    return result\n",
    "        #print(step)"
   ]
  },
  {
   "cell_type": "code",
   "execution_count": 131,
   "metadata": {},
   "outputs": [
    {
     "name": "stdout",
     "output_type": "stream",
     "text": [
      "\n",
      "start binning function...\n",
      "[['M', 'M'], ['M', 'M'], ['M', 'M'], ['M', 'M'], ['M', 'M'], ['M', 'M'], ['M', 'M'], ['M', 'M'], ['M', 'M'], ['M', 'M'], ['M', 'D'], ['M', 'B'], ['M', 'D'], ['M', 'D'], ['M', 'M'], ['M', 'M'], ['M', 'M'], ['M', 'M'], ['M', 'M'], ['M', 'M']]\n"
     ]
    }
   ],
   "source": [
    "#For test\n",
    "res = binning2(['MMMMMMMMMMMMMMMMMMMMMMMMMMMMMMMMMMMMMMMMMMMMMMMMMMM', 'MMMMMMMMMMMMMMMMMMMMMMMMMMMMMMMMMMMMDDDDDIDDDDMMMMMMMMMMMMMMMMMMMM'], 20)\n",
    "print(res)"
   ]
  },
  {
   "cell_type": "code",
   "execution_count": 124,
   "metadata": {},
   "outputs": [],
   "source": [
    "#plot figures S2C\n",
    "def plot(data, name, binnum):\n",
    "    print('\\nstart plotting...')\n",
    "    Dlist = []\n",
    "    Ilist = []\n",
    "    \n",
    "    for cigars in data:\n",
    "        x = list(range(1, binnum+1))\n",
    "        length = len(cigars)\n",
    "        D = 0\n",
    "        I = 0\n",
    "        \n",
    "        for cigar in cigars:\n",
    "            if cigar == 'D':\n",
    "                D += 1\n",
    "            elif cigar == 'I':\n",
    "                I += 1\n",
    "        #print(length, D, I)\n",
    "        Dlist.append(D/length*100)\n",
    "        Ilist.append(I/length*100)\n",
    "    #print(Dlist)\n",
    "    plt.plot(x, Dlist, color='blue')\n",
    "    plt.plot(x, Ilist, color='red')\n",
    "    plt.title(name + '\\n\\nPosition in tag')\n",
    "    plt.ylabel('Frequency (percent)')\n",
    "    frame = plt.gca()\n",
    "    frame.axes.get_xaxis().set_visible(False)\n",
    "    plt.show()\n",
    "    "
   ]
  },
  {
   "cell_type": "code",
   "execution_count": 125,
   "metadata": {},
   "outputs": [
    {
     "name": "stdout",
     "output_type": "stream",
     "text": [
      "\n",
      "start plotting...\n"
     ]
    },
    {
     "data": {
      "image/png": "[encoded data removed]",
      "text/plain": [
       "<Figure size 432x288 with 1 Axes>"
      ]
     },
     "metadata": {
      "needs_background": "light"
     },
     "output_type": "display_data"
    }
   ],
   "source": [
    "#For test\n",
    "plot(['MI', 'MI', 'MI', 'MI', 'MI', 'MI', 'MI', 'MI', 'MI', 'MI', 'MD', 'MD', 'MD', 'MD', 'MD', 'MD', 'MD', 'MD', 'MD', 'MD'], 'yes', 20)"
   ]
  },
  {
   "cell_type": "code",
   "execution_count": 132,
   "metadata": {},
   "outputs": [],
   "source": [
    "def main(addr, name, binnum):\n",
    "    pre = makedata(addr)\n",
    "    print(\"Success!\")\n",
    "    classified = classify(pre)\n",
    "    print(\"Success!\")\n",
    "    binned = binning2(classified, binnum)\n",
    "    print(\"Success!\")\n",
    "    plot(binned, name, binnum)\n",
    "    print(\"Success!\")\n",
    "    "
   ]
  },
  {
   "cell_type": "code",
   "execution_count": 133,
   "metadata": {},
   "outputs": [
    {
     "name": "stdout",
     "output_type": "stream",
     "text": [
      "Start makedata function...\n",
      "1000000\n",
      "2000000\n",
      "3000000\n",
      "4000000\n",
      "5000000\n",
      "6000000\n",
      "Success!\n",
      "\n",
      "start classify function...\n",
      "0\n",
      "1000000\n",
      "2000000\n",
      "3000000\n",
      "4000000\n",
      "5000000\n",
      "6000000\n",
      "Success!\n",
      "\n",
      "start binning function...\n",
      "1000000\n",
      "2000000\n",
      "3000000\n",
      "4000000\n",
      "5000000\n",
      "6000000\n",
      "Success!\n",
      "\n",
      "start plotting...\n"
     ]
    },
    {
     "data": {
      "image/png": "[encoded data removed]",
      "text/plain": [
       "<Figure size 432x288 with 1 Axes>"
      ]
     },
     "metadata": {
      "needs_background": "light"
     },
     "output_type": "display_data"
    },
    {
     "name": "stdout",
     "output_type": "stream",
     "text": [
      "Success!\n"
     ]
    }
   ],
   "source": [
    "main('./AlignedData_with_genome/Lin28a-CLIP-35L33G/Aligned.out.sam', 'CLIP-35L33G', 20)"
   ]
  },
  {
   "cell_type": "code",
   "execution_count": 136,
   "metadata": {},
   "outputs": [
    {
     "name": "stdout",
     "output_type": "stream",
     "text": [
      "Start makedata function...\n",
      "1000000\n",
      "2000000\n",
      "3000000\n",
      "4000000\n",
      "5000000\n",
      "6000000\n",
      "Success!\n",
      "\n",
      "start classify function...\n",
      "0\n",
      "1000000\n",
      "2000000\n",
      "3000000\n",
      "4000000\n",
      "5000000\n",
      "6000000\n",
      "Success!\n",
      "\n",
      "start binning function...\n",
      "1000000\n",
      "2000000\n",
      "3000000\n",
      "4000000\n",
      "5000000\n",
      "6000000\n",
      "Success!\n",
      "\n",
      "start plotting...\n"
     ]
    },
    {
     "data": {
      "image/png": "[encoded data removed]",
      "text/plain": [
       "<Figure size 432x288 with 1 Axes>"
      ]
     },
     "metadata": {
      "needs_background": "light"
     },
     "output_type": "display_data"
    },
    {
     "name": "stdout",
     "output_type": "stream",
     "text": [
      "Success!\n"
     ]
    }
   ],
   "source": [
    "main('./AlignedData_with_genome/Lin28a-CLIP-2J3/Aligned.out.sam', 'CLIP-2J3', 20)"
   ]
  },
  {
   "cell_type": "code",
   "execution_count": 137,
   "metadata": {},
   "outputs": [
    {
     "name": "stdout",
     "output_type": "stream",
     "text": [
      "Start makedata function...\n",
      "1000000\n",
      "2000000\n",
      "3000000\n",
      "4000000\n",
      "5000000\n",
      "Success!\n",
      "\n",
      "start classify function...\n",
      "0\n",
      "1000000\n",
      "2000000\n",
      "3000000\n",
      "4000000\n",
      "5000000\n",
      "Success!\n",
      "\n",
      "start binning function...\n",
      "1000000\n",
      "2000000\n",
      "3000000\n",
      "4000000\n",
      "5000000\n",
      "Success!\n",
      "\n",
      "start plotting...\n"
     ]
    },
    {
     "data": {
      "image/png": "[encoded data removed]",
      "text/plain": [
       "<Figure size 432x288 with 1 Axes>"
      ]
     },
     "metadata": {
      "needs_background": "light"
     },
     "output_type": "display_data"
    },
    {
     "name": "stdout",
     "output_type": "stream",
     "text": [
      "Success!\n"
     ]
    }
   ],
   "source": [
    "main('./AlignedData_with_genome/Lin28a-CLIP-polyclonal/Aligned.out.sam', 'CLIP-polyclonal', 20)"
   ]
  },
  {
   "cell_type": "code",
   "execution_count": 138,
   "metadata": {},
   "outputs": [
    {
     "name": "stdout",
     "output_type": "stream",
     "text": [
      "Start makedata function...\n",
      "1000000\n",
      "2000000\n",
      "3000000\n",
      "4000000\n",
      "5000000\n",
      "6000000\n",
      "7000000\n",
      "8000000\n",
      "9000000\n",
      "10000000\n",
      "11000000\n",
      "12000000\n",
      "13000000\n",
      "14000000\n",
      "15000000\n",
      "16000000\n",
      "17000000\n",
      "18000000\n",
      "19000000\n",
      "20000000\n",
      "21000000\n",
      "22000000\n",
      "23000000\n",
      "24000000\n",
      "25000000\n",
      "26000000\n",
      "27000000\n",
      "Success!\n",
      "\n",
      "start classify function...\n",
      "0\n",
      "1000000\n",
      "2000000\n",
      "3000000\n",
      "4000000\n",
      "5000000\n",
      "6000000\n",
      "7000000\n",
      "8000000\n",
      "9000000\n",
      "10000000\n",
      "11000000\n",
      "12000000\n",
      "13000000\n",
      "14000000\n",
      "15000000\n",
      "16000000\n",
      "17000000\n",
      "18000000\n",
      "19000000\n",
      "20000000\n",
      "21000000\n",
      "22000000\n",
      "23000000\n",
      "24000000\n",
      "25000000\n",
      "26000000\n",
      "27000000\n",
      "Success!\n",
      "\n",
      "start binning function...\n",
      "1000000\n",
      "2000000\n",
      "3000000\n",
      "4000000\n",
      "5000000\n",
      "6000000\n",
      "7000000\n",
      "8000000\n",
      "9000000\n",
      "10000000\n",
      "11000000\n",
      "12000000\n",
      "13000000\n",
      "14000000\n",
      "15000000\n",
      "16000000\n",
      "17000000\n",
      "18000000\n",
      "19000000\n",
      "20000000\n",
      "21000000\n",
      "22000000\n",
      "23000000\n",
      "24000000\n",
      "25000000\n",
      "26000000\n",
      "27000000\n",
      "Success!\n",
      "\n",
      "start plotting...\n"
     ]
    },
    {
     "data": {
      "image/png": "[encoded data removed]",
      "text/plain": [
       "<Figure size 432x288 with 1 Axes>"
      ]
     },
     "metadata": {
      "needs_background": "light"
     },
     "output_type": "display_data"
    },
    {
     "name": "stdout",
     "output_type": "stream",
     "text": [
      "Success!\n"
     ]
    }
   ],
   "source": [
    "main('./AlignedData_with_genome/RNA-seq-untreated/Aligned.out.sam', 'RNA-seq', 20)"
   ]
  }
 ],
 "metadata": {
  "kernelspec": {
   "display_name": "Python 3",
   "language": "python",
   "name": "python3"
  },
  "language_info": {
   "codemirror_mode": {
    "name": "ipython",
    "version": 3
   },
   "file_extension": ".py",
   "mimetype": "text/x-python",
   "name": "python",
   "nbconvert_exporter": "python",
   "pygments_lexer": "ipython3",
   "version": "3.7.9"
  }
 },
 "nbformat": 4,
 "nbformat_minor": 4
}
